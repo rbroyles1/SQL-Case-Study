{
 "cells": [
  {
   "cell_type": "code",
   "execution_count": 15,
   "metadata": {},
   "outputs": [],
   "source": [
    "import sqlite3\n",
    "from sqlite3 import Error\n",
    "\n",
    "def select_all_tasks(conn, query1):\n",
    "    cur = conn.cursor()\n",
    "    cur.execute(query1)\n",
    "    rows = cur.fetchall()\n",
    "    for row in rows:\n",
    "        print(row)\n",
    "    \n",
    "database = \"C:\\\\Users\\\\rxbro\\\\Documents\\\\Country Club case study\\\\sqlite_db_pythonsqlite.db\"\n",
    "conn = sqlite3.connect(database) \n",
    "   "
   ]
  },
  {
   "cell_type": "markdown",
   "metadata": {},
   "source": [
    "<i> Q1 </i>\n",
    "<p> Some of the facilities charge a fee to members, but some do not.  Write a SQL query to produce a list of the names of the facilities that do.</p>\n"
   ]
  },
  {
   "cell_type": "code",
   "execution_count": 17,
   "metadata": {},
   "outputs": [
    {
     "name": "stdout",
     "output_type": "stream",
     "text": [
      "('Tennis Court 1',)\n",
      "('Tennis Court 2',)\n",
      "('Massage Room 1',)\n",
      "('Massage Room 2',)\n",
      "('Squash Court',)\n"
     ]
    }
   ],
   "source": [
    "query1 = \"\"\"\n",
    "SELECT name\n",
    "FROM Facilities\n",
    "WHERE membercost > 0\n",
    "\"\"\"\n",
    "with conn:\n",
    "    select_all_tasks(conn, query1)"
   ]
  },
  {
   "cell_type": "markdown",
   "metadata": {},
   "source": [
    "<b><i>Q2:</i></b>\n",
    "<p>How many facilities do not charge a fee to members?</p>"
   ]
  },
  {
   "cell_type": "code",
   "execution_count": 18,
   "metadata": {},
   "outputs": [
    {
     "name": "stdout",
     "output_type": "stream",
     "text": [
      "(4,)\n"
     ]
    }
   ],
   "source": [
    "query = \"\"\"\n",
    "SELECT COUNT(*)\n",
    "FROM Facilities\n",
    "WHERE membercost = 0\n",
    "\"\"\"\n",
    "with conn:\n",
    "    select_all_tasks(conn, query)"
   ]
  },
  {
   "cell_type": "markdown",
   "metadata": {},
   "source": [
    "<b>Q3:</b>\n",
    "<p>Write an SQL query to show a list of facilities that charge a fee to members, where the fee is less than 20% of the facility's monthly maintenance cost.  Return the facid, facility name, member cost, and monthly maintenance of the facilities in question.</p>"
   ]
  },
  {
   "cell_type": "code",
   "execution_count": 19,
   "metadata": {},
   "outputs": [
    {
     "name": "stdout",
     "output_type": "stream",
     "text": [
      "(0, 'Tennis Court 1', 5, 200)\n",
      "(1, 'Tennis Court 2', 5, 200)\n",
      "(4, 'Massage Room 1', 9.9, 3000)\n",
      "(5, 'Massage Room 2', 9.9, 3000)\n",
      "(6, 'Squash Court', 3.5, 80)\n"
     ]
    }
   ],
   "source": [
    "query = \"\"\"\n",
    "SELECT facid, name, membercost, monthlymaintenance\n",
    "FROM Facilities\n",
    "WHERE membercost > 0 AND membercost < 0.2 * monthlymaintenance\n",
    "\"\"\"\n",
    "with conn:\n",
    "    select_all_tasks(conn, query)"
   ]
  },
  {
   "cell_type": "markdown",
   "metadata": {},
   "source": [
    "<b>Q4:</b>\n",
    "<p>Write an SQL query to retrieve the details of facilities with ID 1 and 5.  Try writing the query without using the OR operator.</p>"
   ]
  },
  {
   "cell_type": "code",
   "execution_count": 20,
   "metadata": {},
   "outputs": [
    {
     "name": "stdout",
     "output_type": "stream",
     "text": [
      "(1, 'Tennis Court 2', 5, 25, 8000, 200)\n",
      "(5, 'Massage Room 2', 9.9, 80, 4000, 3000)\n"
     ]
    }
   ],
   "source": [
    "query = \"\"\"\n",
    "SELECT *\n",
    "FROM Facilities\n",
    "WHERE facid IN (1, 5)\n",
    "\"\"\"\n",
    "with conn:\n",
    "    select_all_tasks(conn, query)"
   ]
  },
  {
   "cell_type": "markdown",
   "metadata": {},
   "source": [
    "<b>Q5:</b>\n",
    "<p>Produce a list of facilities, with each labelled as 'cheap' or 'expensive\", depending on if their monthly maintenance cost is more than $100.  Return the hame and monthly maintenance of the facilities in question.</p>"
   ]
  },
  {
   "cell_type": "code",
   "execution_count": 21,
   "metadata": {},
   "outputs": [
    {
     "name": "stdout",
     "output_type": "stream",
     "text": [
      "('Tennis Court 1', 200, 'expensive')\n",
      "('Tennis Court 2', 200, 'expensive')\n",
      "('Badminton Court', 50, 'cheap')\n",
      "('Table Tennis', 10, 'cheap')\n",
      "('Massage Room 1', 3000, 'expensive')\n",
      "('Massage Room 2', 3000, 'expensive')\n",
      "('Squash Court', 80, 'cheap')\n",
      "('Snooker Table', 15, 'cheap')\n",
      "('Pool Table', 15, 'cheap')\n"
     ]
    }
   ],
   "source": [
    "query = \"\"\" \n",
    "SELECT name, monthlymaintenance,\n",
    "    CASE WHEN monthlymaintenance < 100 THEN 'cheap'\n",
    "        ELSE 'expensive' END AS cost_qual\n",
    "FROM Facilities\n",
    "\"\"\"\n",
    "with conn:\n",
    "    select_all_tasks(conn, query)"
   ]
  },
  {
   "cell_type": "markdown",
   "metadata": {},
   "source": [
    "<b>Q6:</b>\n",
    "<p> You would like to get the first and last name of the last member(s) who signed up.  Try not to use the LIMIT clause for the solution. </p>"
   ]
  },
  {
   "cell_type": "code",
   "execution_count": 22,
   "metadata": {},
   "outputs": [
    {
     "name": "stdout",
     "output_type": "stream",
     "text": [
      "('Smith', 'Darren')\n",
      "('Crumpet', 'Erica')\n",
      "('Hunt', 'John')\n",
      "('Tupperware', 'Hyacinth')\n",
      "('Purview', 'Millicent')\n"
     ]
    }
   ],
   "source": [
    "query = \"\"\"\n",
    "SELECT surname, firstname\n",
    "FROM Members\n",
    "ORDER BY memID DESC\n",
    "\"\"\"\n",
    "with conn:\n",
    "    cur = conn.cursor()\n",
    "    cur.execute(query)\n",
    "    rows = cur.fetchall()\n",
    "    for i in range(0, 5):\n",
    "        print(rows[i])"
   ]
  },
  {
   "cell_type": "markdown",
   "metadata": {},
   "source": [
    "<b>Q7:</b>\n",
    "<p>Produce a list of all members who have used a tennis court.  Include in your output the name of the court, and the name of the member formatted in a single column.  Ensure no duplicate data and order by member name.</p>"
   ]
  },
  {
   "cell_type": "code",
   "execution_count": 23,
   "metadata": {},
   "outputs": [
    {
     "name": "stdout",
     "output_type": "stream",
     "text": [
      "('Tennis Court 1', 'Anne Baker')\n",
      "('Tennis Court 2', 'Anne Baker')\n",
      "('Tennis Court 2', 'Burton Tracy')\n",
      "('Tennis Court 1', 'Burton Tracy')\n",
      "('Tennis Court 1', 'Charles Owen')\n",
      "('Tennis Court 2', 'Charles Owen')\n",
      "('Tennis Court 2', 'Darren Smith')\n",
      "('Tennis Court 1', 'David Farrell')\n",
      "('Tennis Court 2', 'David Farrell')\n",
      "('Tennis Court 2', 'David Jones')\n",
      "('Tennis Court 1', 'David Jones')\n",
      "('Tennis Court 1', 'David Pinker')\n",
      "('Tennis Court 1', 'Douglas Jones')\n",
      "('Tennis Court 1', 'Erica Crumpet')\n",
      "('Tennis Court 2', 'Florence Bader')\n",
      "('Tennis Court 1', 'Florence Bader')\n",
      "('Tennis Court 2', 'GUEST GUEST')\n",
      "('Tennis Court 1', 'GUEST GUEST')\n",
      "('Tennis Court 1', 'Gerald Butters')\n",
      "('Tennis Court 2', 'Gerald Butters')\n",
      "('Tennis Court 2', 'Henrietta Rumney')\n",
      "('Tennis Court 1', 'Jack Smith')\n",
      "('Tennis Court 2', 'Jack Smith')\n",
      "('Tennis Court 1', 'Janice Joplette')\n",
      "('Tennis Court 2', 'Janice Joplette')\n",
      "('Tennis Court 2', 'Jemima Farrell')\n",
      "('Tennis Court 1', 'Jemima Farrell')\n",
      "('Tennis Court 1', 'Joan Coplin')\n",
      "('Tennis Court 1', 'John Hunt')\n",
      "('Tennis Court 2', 'John Hunt')\n",
      "('Tennis Court 1', 'Matthew Genting')\n",
      "('Tennis Court 2', 'Millicent Purview')\n",
      "('Tennis Court 2', 'Nancy Dare')\n",
      "('Tennis Court 1', 'Nancy Dare')\n",
      "('Tennis Court 2', 'Ponder Stibbons')\n",
      "('Tennis Court 1', 'Ponder Stibbons')\n",
      "('Tennis Court 2', 'Ramnaresh Sarwin')\n",
      "('Tennis Court 1', 'Ramnaresh Sarwin')\n",
      "('Tennis Court 2', 'Tim Boothe')\n",
      "('Tennis Court 1', 'Tim Boothe')\n",
      "('Tennis Court 2', 'Tim Rownam')\n",
      "('Tennis Court 1', 'Tim Rownam')\n",
      "('Tennis Court 2', 'Timothy Baker')\n",
      "('Tennis Court 1', 'Timothy Baker')\n",
      "('Tennis Court 1', 'Tracy Smith')\n",
      "('Tennis Court 2', 'Tracy Smith')\n"
     ]
    }
   ],
   "source": [
    "query = \"\"\"\n",
    "SELECT DISTINCT f.name as fac_name, (m.firstname || ' ' || m.surname) as full_name\n",
    "FROM Facilities f\n",
    "INNER JOIN Bookings as b USING (facid)\n",
    "INNER JOIN Members as m USING(memid)\n",
    "WHERE f.facid IN(0, 1)\n",
    "ORDER BY full_name\n",
    "\"\"\"\n",
    "with conn:\n",
    "    select_all_tasks(conn, query)"
   ]
  },
  {
   "cell_type": "markdown",
   "metadata": {},
   "source": [
    "<b>Q8:</b>\n",
    "<p> Produce a list of bookings on the date of 2012-09-14 which will cost the member (or guest) more than $30.  Remember that guests have different costs to members (the listed costs are per half-hour 'slot'), and the guest user's ID is always 0.  Include in your output the name of the facility, the name of the member formatted in a single column, and the cost.  Order by descending cost, and do not use any subqueries.</p>"
   ]
  },
  {
   "cell_type": "code",
   "execution_count": 24,
   "metadata": {},
   "outputs": [
    {
     "name": "stdout",
     "output_type": "stream",
     "text": [
      "('Massage Room 2', 'GUEST GUEST', 320)\n",
      "('Massage Room 1', 'GUEST GUEST', 160)\n",
      "('Massage Room 1', 'GUEST GUEST', 160)\n",
      "('Massage Room 1', 'GUEST GUEST', 160)\n",
      "('Tennis Court 2', 'GUEST GUEST', 150)\n",
      "('Tennis Court 1', 'GUEST GUEST', 75)\n",
      "('Tennis Court 1', 'GUEST GUEST', 75)\n",
      "('Tennis Court 2', 'GUEST GUEST', 75)\n",
      "('Squash Court', 'GUEST GUEST', 70.0)\n",
      "('Massage Room 1', 'Jemima Farrell', 39.6)\n",
      "('Squash Court', 'GUEST GUEST', 35.0)\n",
      "('Squash Court', 'GUEST GUEST', 35.0)\n"
     ]
    }
   ],
   "source": [
    "query = \"\"\"\n",
    "SELECT f.name, (m.firstname || ' ' || m.surname) as full_name,\n",
    "    CASE WHEN b.memid = 0 THEN f.guestcost * b.slots\n",
    "        ELSE f.membercost * b.slots END AS cost_booking\n",
    "FROM Bookings as b\n",
    "INNER JOIN Facilities as f USING (facid)\n",
    "INNER JOIN Members as m USING(memid)\n",
    "WHERE b.starttime LIKE '2012-09-14%' AND (f.membercost * b.slots > 30 OR (f.guestcost * b.slots > 30 AND b.memid = 0))\n",
    "ORDER BY cost_booking DESC\n",
    "\"\"\"\n",
    "with conn:\n",
    "    select_all_tasks(conn, query)"
   ]
  },
  {
   "cell_type": "markdown",
   "metadata": {},
   "source": [
    "<b>Q9:</b>\n",
    "<p>Produce the same result as Q8, but use a subquery.</p>"
   ]
  },
  {
   "cell_type": "code",
   "execution_count": 25,
   "metadata": {},
   "outputs": [
    {
     "name": "stdout",
     "output_type": "stream",
     "text": [
      "('Massage Room 2', 'GUEST GUEST', 320.0)\n",
      "('Massage Room 1', 'GUEST GUEST', 160.0)\n",
      "('Massage Room 1', 'GUEST GUEST', 160.0)\n",
      "('Massage Room 1', 'GUEST GUEST', 160.0)\n",
      "('Tennis Court 2', 'GUEST GUEST', 150)\n",
      "('Tennis Court 1', 'GUEST GUEST', 75)\n",
      "('Tennis Court 1', 'GUEST GUEST', 75)\n",
      "('Tennis Court 2', 'GUEST GUEST', 75)\n",
      "('Squash Court', 'GUEST GUEST', 70.0)\n",
      "('Massage Room 1', 'Jemima Farrell', 39.6)\n",
      "('Squash Court', 'GUEST GUEST', 35.0)\n",
      "('Squash Court', 'GUEST GUEST', 35.0)\n"
     ]
    }
   ],
   "source": [
    "query = \"\"\"\n",
    "SELECT f.name, (m.firstname || ' ' || m.surname) as full_name,\n",
    "    (f.guestcost * fac_slot.guest_slot + f.membercost * fac_slot.mem_slot) as tot_cost\n",
    "FROM (\n",
    "    SELECT bookid, memid, facid, ifnull(mem_slot, 0) as mem_slot, ifnull(guest_slot, 0) as guest_slot\n",
    "    FROM (\n",
    "        WITH guest_b AS (\n",
    "            SELECT bookid, memid, facid, slots\n",
    "            FROM Bookings\n",
    "            WHERE memid = 0),\n",
    "        mem_b AS (\n",
    "            SELECT bookid, memid, facid, slots\n",
    "            FROM Bookings\n",
    "            WHERE memid != 0)\n",
    "        SELECT b.bookid, b.memid, b.facid, mem_b.slots AS mem_slot, guest_b.slots AS guest_slot\n",
    "        FROM Bookings AS b\n",
    "        LEFT JOIN mem_b ON mem_b.bookid = b.bookid\n",
    "        LEFT JOIN guest_b ON guest_b.bookid = b.bookid\n",
    "        WHERE b.starttime LIKE '2012-09-14%')) as fac_slot\n",
    "INNER JOIN Members AS m USING (memid)\n",
    "INNER JOIN Facilities AS f USING (facid)\n",
    "WHERE tot_cost > 30\n",
    "ORDER BY tot_cost DESC\n",
    "\"\"\"\n",
    "with conn:\n",
    "    select_all_tasks(conn, query)"
   ]
  },
  {
   "cell_type": "markdown",
   "metadata": {},
   "source": [
    "<b>Q10:</b>\n",
    "<p>Produce a list of facilities with a total revenue less than $1000.  The output of facility name and total revenue, sorted by revenue.  Remember that there's a different cost for guests and members!</p>"
   ]
  },
  {
   "cell_type": "code",
   "execution_count": 33,
   "metadata": {},
   "outputs": [
    {
     "name": "stdout",
     "output_type": "stream",
     "text": [
      "('Table Tennis', 90)\n",
      "('Snooker Table', 115)\n",
      "('Pool Table', 265)\n",
      "('Badminton Court', 604.5)\n"
     ]
    }
   ],
   "source": [
    "query = \"\"\"\n",
    "SELECT name, SUM(\n",
    "    CASE WHEN memid = 0 THEN guestcost\n",
    "        ELSE membercost END) AS revenue\n",
    "    FROM Facilities\n",
    "    INNER JOIN Bookings USING (facid)\n",
    "    GROUP BY name\n",
    "    HAVING revenue < 1000\n",
    "    ORDER BY revenue\n",
    "\"\"\"\n",
    "with conn:\n",
    "    select_all_tasks(conn,query)"
   ]
  },
  {
   "cell_type": "markdown",
   "metadata": {},
   "source": [
    "<b>Q11:</b>\n",
    "<p>Produce a report of members and who recommended them in alphabetic order by surname.</p>"
   ]
  },
  {
   "cell_type": "code",
   "execution_count": 34,
   "metadata": {},
   "outputs": [
    {
     "name": "stdout",
     "output_type": "stream",
     "text": [
      "('Bader', 'Florence', 'Stibbons', 'Ponder')\n",
      "('Baker', 'Anne', 'Stibbons', 'Ponder')\n",
      "('Baker', 'Timothy', 'Farrell', 'Jemima')\n",
      "('Boothe', 'Tim', 'Rownam', 'Tim')\n",
      "('Butters', 'Gerald', 'Smith', 'Darren')\n",
      "('Coplin', 'Joan', 'Baker', 'Timothy')\n",
      "('Crumpet', 'Erica', 'Smith', 'Tracy')\n",
      "('Dare', 'Nancy', 'Joplette', 'Janice')\n",
      "('Genting', 'Matthew', 'Butters', 'Gerald')\n",
      "('Hunt', 'John', 'Purview', 'Millicent')\n",
      "('Jones', 'David', 'Joplette', 'Janice')\n",
      "('Jones', 'Douglas', 'Jones', 'David')\n",
      "('Joplette', 'Janice', 'Smith', 'Darren')\n",
      "('Mackenzie', 'Anna', 'Smith', 'Darren')\n",
      "('Owen', 'Charles', 'Smith', 'Darren')\n",
      "('Pinker', 'David', 'Farrell', 'Jemima')\n",
      "('Purview', 'Millicent', 'Smith', 'Tracy')\n",
      "('Rumney', 'Henrietta', 'Genting', 'Matthew')\n",
      "('Sarwin', 'Ramnaresh', 'Bader', 'Florence')\n",
      "('Smith', 'Jack', 'Smith', 'Darren')\n",
      "('Stibbons', 'Ponder', 'Tracy', 'Burton')\n",
      "('Worthington-Smyth', 'Henry', 'Smith', 'Tracy')\n"
     ]
    }
   ],
   "source": [
    "query = \"\"\"\n",
    "SELECT m1.surname, m1.firstname, m2.surname, m2.firstname\n",
    "FROM Members AS m1\n",
    "INNER JOIN Members AS m2 ON m1.recommendedby = m2.memid\n",
    "ORDER BY m1.surname, m1.firstname\n",
    "\"\"\"\n",
    "with conn:\n",
    "    select_all_tasks(conn, query)"
   ]
  },
  {
   "cell_type": "markdown",
   "metadata": {},
   "source": [
    "<b>Q12:</b>\n",
    "<p>Find the facilities with their usage by member, but not guests.</p>"
   ]
  },
  {
   "cell_type": "code",
   "execution_count": 35,
   "metadata": {},
   "outputs": [
    {
     "name": "stdout",
     "output_type": "stream",
     "text": [
      "('Pool Table', 783)\n",
      "('Snooker Table', 421)\n",
      "('Massage Room 1', 421)\n",
      "('Table Tennis', 385)\n",
      "('Badminton Court', 344)\n",
      "('Tennis Court 1', 308)\n",
      "('Tennis Court 2', 276)\n",
      "('Squash Court', 195)\n",
      "('Massage Room 2', 27)\n"
     ]
    }
   ],
   "source": [
    "query = \"\"\"\n",
    "SELECT name, COUNT(\n",
    "    CASE WHEN memid > 0 THEN 1\n",
    "        ELSE NULL END) AS usage\n",
    "    FROM Facilities AS f\n",
    "    INNER JOIN Bookings USING (facid)\n",
    "    GROUP BY name\n",
    "    ORDER BY usage DESC\n",
    "\"\"\"\n",
    "with conn:\n",
    "    select_all_tasks(conn,query)"
   ]
  },
  {
   "cell_type": "markdown",
   "metadata": {},
   "source": [
    "<b>Q13:</b>\n",
    "<p> Find the facilities usage by month, but not by guests.</p>"
   ]
  },
  {
   "cell_type": "code",
   "execution_count": 37,
   "metadata": {},
   "outputs": [
    {
     "name": "stdout",
     "output_type": "stream",
     "text": [
      "('Pool Table', '09', 408)\n",
      "('Pool Table', '08', 272)\n",
      "('Snooker Table', '09', 199)\n",
      "('Table Tennis', '09', 194)\n",
      "('Massage Room 1', '09', 191)\n",
      "('Badminton Court', '09', 161)\n",
      "('Snooker Table', '08', 154)\n",
      "('Massage Room 1', '08', 153)\n",
      "('Table Tennis', '08', 143)\n",
      "('Badminton Court', '08', 132)\n",
      "('Tennis Court 1', '09', 132)\n",
      "('Tennis Court 2', '09', 126)\n",
      "('Tennis Court 1', '08', 111)\n",
      "('Tennis Court 2', '08', 109)\n",
      "('Pool Table', '07', 103)\n",
      "('Squash Court', '09', 87)\n",
      "('Squash Court', '08', 85)\n",
      "('Massage Room 1', '07', 77)\n",
      "('Snooker Table', '07', 68)\n",
      "('Tennis Court 1', '07', 65)\n",
      "('Badminton Court', '07', 51)\n",
      "('Table Tennis', '07', 48)\n",
      "('Tennis Court 2', '07', 41)\n",
      "('Squash Court', '07', 23)\n",
      "('Massage Room 2', '09', 14)\n",
      "('Massage Room 2', '08', 9)\n",
      "('Massage Room 2', '07', 4)\n"
     ]
    }
   ],
   "source": [
    "query = \"\"\"\n",
    "SELECT name, strftime('%m', starttime) as month, COUNT(\n",
    "    CASE WHEN memid > 0 THEN 1\n",
    "        ELSE NULL END) AS usage\n",
    "FROM Facilities AS f\n",
    "INNER JOIN Bookings USING (facid)\n",
    "GROUP BY name, month\n",
    "ORDER BY usage DESC\n",
    "\"\"\"\n",
    "with conn:\n",
    "    select_all_tasks(conn, query)"
   ]
  },
  {
   "cell_type": "code",
   "execution_count": null,
   "metadata": {},
   "outputs": [],
   "source": []
  }
 ],
 "metadata": {
  "kernelspec": {
   "display_name": "Python 3",
   "language": "python",
   "name": "python3"
  },
  "language_info": {
   "codemirror_mode": {
    "name": "ipython",
    "version": 3
   },
   "file_extension": ".py",
   "mimetype": "text/x-python",
   "name": "python",
   "nbconvert_exporter": "python",
   "pygments_lexer": "ipython3",
   "version": "3.7.7"
  }
 },
 "nbformat": 4,
 "nbformat_minor": 4
}
